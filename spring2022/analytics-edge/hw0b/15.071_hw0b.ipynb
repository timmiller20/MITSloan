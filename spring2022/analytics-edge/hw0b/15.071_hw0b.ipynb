{
 "cells": [
  {
   "cell_type": "code",
   "execution_count": 1,
   "id": "d1b4846f",
   "metadata": {},
   "outputs": [
    {
     "name": "stdout",
     "output_type": "stream",
     "text": [
      "Hello 15.071 World!\n"
     ]
    }
   ],
   "source": [
    "print(\"Hello 15.071 World!\")"
   ]
  },
  {
   "cell_type": "code",
   "execution_count": 2,
   "id": "4793ee68",
   "metadata": {},
   "outputs": [
    {
     "name": "stdout",
     "output_type": "stream",
     "text": [
      "Set parameter Username\n",
      "Academic license - for non-commercial use only - expires 2022-06-09\n",
      "Gurobi Optimizer version 9.5.1 build v9.5.1rc2 (win64)\n",
      "Thread count: 4 physical cores, 8 logical processors, using up to 8 threads\n",
      "Optimize a model with 2 rows, 2 columns and 3 nonzeros\n",
      "Model fingerprint: 0xb7361849\n",
      "Coefficient statistics:\n",
      "  Matrix range     [1e+00, 1e+00]\n",
      "  Objective range  [1e+00, 2e+00]\n",
      "  Bounds range     [0e+00, 0e+00]\n",
      "  RHS range        [1e+00, 4e+00]\n",
      "Presolve removed 2 rows and 2 columns\n",
      "Presolve time: 0.01s\n",
      "Presolve: All rows and columns removed\n",
      "Iteration    Objective       Primal Inf.    Dual Inf.      Time\n",
      "       0    5.0000000e+00   0.000000e+00   0.000000e+00      0s\n",
      "\n",
      "Solved in 0 iterations and 0.02 seconds (0.00 work units)\n",
      "Optimal objective  5.000000000e+00\n"
     ]
    }
   ],
   "source": [
    "import gurobipy as gp\n",
    "from gurobipy import GRB\n",
    "\n",
    "# Create model object\n",
    "mod = gp.Model(\"my_first_model\")\n",
    "\n",
    "# Add decison variables\n",
    "x = mod.addVar()\n",
    "y = mod.addVar()\n",
    "\n",
    "# Add Constraints\n",
    "mod.addConstr(x + y == 4)\n",
    "mod.addConstr(x >= 1)\n",
    "\n",
    "# Set objective function\n",
    "mod.setObjective(2*y - x, GRB.MAXIMIZE)\n",
    "\n",
    "# Optimize\n",
    "mod.optimize()"
   ]
  },
  {
   "cell_type": "code",
   "execution_count": 4,
   "id": "53c3a1f7",
   "metadata": {},
   "outputs": [
    {
     "name": "stdout",
     "output_type": "stream",
     "text": [
      "Gurobi Optimizer version 9.5.1 build v9.5.1rc2 (win64)\n",
      "Thread count: 4 physical cores, 8 logical processors, using up to 8 threads\n",
      "Optimize a model with 11 rows, 12 columns and 30 nonzeros\n",
      "Model fingerprint: 0x7fb376c5\n",
      "Coefficient statistics:\n",
      "  Matrix range     [1e+00, 4e+02]\n",
      "  Objective range  [3e+01, 1e+02]\n",
      "  Bounds range     [0e+00, 0e+00]\n",
      "  RHS range        [5e+01, 2e+04]\n",
      "Presolve removed 11 rows and 12 columns\n",
      "Presolve time: 0.01s\n",
      "Presolve: All rows and columns removed\n",
      "Iteration    Objective       Primal Inf.    Dual Inf.      Time\n",
      "       0    9.9983333e+03   0.000000e+00   0.000000e+00      0s\n",
      "\n",
      "Solved in 0 iterations and 0.01 seconds (0.00 work units)\n",
      "Optimal objective  9.998333333e+03\n"
     ]
    }
   ],
   "source": [
    "import gurobipy as gp\n",
    "from gurobipy import GRB\n",
    "# Initialize model object\n",
    "mod1 = gp.Model (\"model_1\")\n",
    "# Add decision variables\n",
    "# From supply nodes {1,2,3} to transshipment nodes {4,5}\n",
    "x14 = mod1.addVar(name=\"milk_shipment_from_node_1_to_node_4\")\n",
    "x15 = mod1.addVar(name=\"milk_shipment_from_node_1_to_node_5\")\n",
    "x24 = mod1.addVar(name=\"milk_shipment_from_node_2_to_node_4\")\n",
    "x25 = mod1.addVar(name=\"milk_shipment_from_node_2_to_node_5\")\n",
    "x34 = mod1.addVar(name=\"milk_shipment_from_node_3_to_node_4\")\n",
    "x35 = mod1.addVar(name=\"milk_shipment_from_node_3_to_node_5\")\n",
    "# From transshipment nodes {4,5} to demand nodes {6,7,8}\n",
    "x46 = mod1.addVar(name=\"milk_shipment_from_node_4_to_node_6\")\n",
    "x47 = mod1.addVar(name=\"milk_shipment_from_node_4_to_node_7\")\n",
    "x48 = mod1.addVar(name=\"milk_shipment_from_node_4_to_node_8\")\n",
    "x56 = mod1.addVar(name=\"milk_shipment_from_node_5_to_node_6\")\n",
    "x57 = mod1.addVar(name=\"milk_shipment_from_node_5_to_node_7\")\n",
    "x58 = mod1.addVar(name=\"milk_shipment_from_node_5_to_node_8\")\n",
    "# Add constraints\n",
    "# Transshipment balance constraints\n",
    "constr_balance_4 = mod1.addConstr(x14 + x24 + x34 == x46 + x47 + x48, name=\"flow_balance_at_4\")\n",
    "constr_balance_5 = mod1.addConstr(x15 + x25 + x35 ==  x56 + x57 + x58, name=\"flow_balance_at_5\")\n",
    "# Energy demand constraints\n",
    "constr_energy_6 = mod1.addConstr(360*x46 + 360*x56 >= 2100, name=\"energy_demand_at_node_6\")\n",
    "constr_energy_7 = mod1.addConstr(360*x47 + 360*x57 >= 8400, name=\"energy_demand_at_node_7\")\n",
    "constr_energy_8 = mod1.addConstr(360*x48 + 360*x58 >= 21000, name=\"energy_demand_at_node_8\")\n",
    "# Protein demand constraints\n",
    "constr_protein_6 = mod1.addConstr(36*x46 + 36*x56 >= 52, name=\"protein_demand_at_node_6\")\n",
    "constr_protein_7 = mod1.addConstr(36*x47 + 36*x57 >= 208, name=\"protein_demand_at_node_7\")\n",
    "constr_protein_8 = mod1.addConstr(36*x48 + 36*x58 >= 520, name=\"protein_demand_at_node_8\")\n",
    "# Vitamin A demand constraints\n",
    "constr_vitA_6 = mod1.addConstr(280*x46 + 280*x56 >= 500, name=\"vitamin_A_demand_at_node_6\")\n",
    "constr_vitA_7 = mod1.addConstr(280*x47 + 280*x57 >= 2000, name=\"vitamin_A_demand_at_node_7\")\n",
    "constr_vitA_8 = mod1.addConstr(280*x48 + 280*x58 >= 5000, name=\"vitamin_A_demand_at_node_8\")\n",
    "# Set objective\n",
    "obj_fn = mod1.setObjective((83+19)*x14 + (83+23)*x15\n",
    "                           + (71+14)*x24 + (71+17)*x25\n",
    "                           + (64+21)*x34 + (64+16)*x35\n",
    "                           + 35*x46 + 39*x47+ 47*x48\n",
    "                           + 40*x56 + 41*x57 + 31*x58,\n",
    "                           GRB.MINIMIZE)\n",
    "\n",
    "mod1.optimize()\n",
    "# write Gurobi solution file (if needed)\n",
    "mod1.write(\"model1.sol\")"
   ]
  },
  {
   "cell_type": "code",
   "execution_count": null,
   "id": "2909fed1",
   "metadata": {},
   "outputs": [],
   "source": []
  },
  {
   "cell_type": "code",
   "execution_count": null,
   "id": "2ef31b1b",
   "metadata": {},
   "outputs": [],
   "source": []
  }
 ],
 "metadata": {
  "kernelspec": {
   "display_name": "Python 3 (ipykernel)",
   "language": "python",
   "name": "python3"
  },
  "language_info": {
   "codemirror_mode": {
    "name": "ipython",
    "version": 3
   },
   "file_extension": ".py",
   "mimetype": "text/x-python",
   "name": "python",
   "nbconvert_exporter": "python",
   "pygments_lexer": "ipython3",
   "version": "3.9.7"
  }
 },
 "nbformat": 4,
 "nbformat_minor": 5
}
